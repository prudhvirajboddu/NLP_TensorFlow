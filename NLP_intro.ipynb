{
  "nbformat": 4,
  "nbformat_minor": 0,
  "metadata": {
    "colab": {
      "name": "NLP_intro.ipynb",
      "provenance": [],
      "collapsed_sections": [],
      "authorship_tag": "ABX9TyNr8OlftJ4zP3/woNf03caS",
      "include_colab_link": true
    },
    "kernelspec": {
      "name": "python3",
      "display_name": "Python 3"
    },
    "accelerator": "GPU"
  },
  "cells": [
    {
      "cell_type": "markdown",
      "metadata": {
        "id": "view-in-github",
        "colab_type": "text"
      },
      "source": [
        "<a href=\"https://colab.research.google.com/github/prudhvirajboddu/NLP_TensorFlow/blob/master/NLP_intro.ipynb\" target=\"_parent\"><img src=\"https://colab.research.google.com/assets/colab-badge.svg\" alt=\"Open In Colab\"/></a>"
      ]
    },
    {
      "cell_type": "code",
      "metadata": {
        "id": "RXWrac1YEVW1",
        "colab_type": "code",
        "colab": {}
      },
      "source": [
        "from tensorflow.keras.preprocessing.text import Tokenizer\n",
        "from tensorflow.keras.preprocessing.sequence import pad_sequences"
      ],
      "execution_count": 0,
      "outputs": []
    },
    {
      "cell_type": "code",
      "metadata": {
        "id": "CwuDR89pF3y_",
        "colab_type": "code",
        "colab": {}
      },
      "source": [
        "#text Data\n",
        "sentences=[\n",
        "           'I am only a human',\n",
        "           'I am not a monster after all'\n",
        "]"
      ],
      "execution_count": 0,
      "outputs": []
    },
    {
      "cell_type": "code",
      "metadata": {
        "id": "14_4JCheGBvn",
        "colab_type": "code",
        "outputId": "5edd1095-bb42-4f7d-e5aa-dba7aa974e6d",
        "colab": {
          "base_uri": "https://localhost:8080/",
          "height": 34
        }
      },
      "source": [
        "tokenizer=Tokenizer(num_words=100,oov_token=\"<OOV>\") #out Of the vocabulary words\n",
        "tokenizer.fit_on_texts(sentences)\n",
        "print(tokenizer.word_index) #Stores word_index data in dictionary"
      ],
      "execution_count": 3,
      "outputs": [
        {
          "output_type": "stream",
          "text": [
            "{'<OOV>': 1, 'i': 2, 'am': 3, 'a': 4, 'only': 5, 'human': 6, 'not': 7, 'monster': 8, 'after': 9, 'all': 10}\n"
          ],
          "name": "stdout"
        }
      ]
    },
    {
      "cell_type": "code",
      "metadata": {
        "id": "yDr5T8iFGd0S",
        "colab_type": "code",
        "colab": {}
      },
      "source": [
        "seq=tokenizer.texts_to_sequences(sentences)"
      ],
      "execution_count": 0,
      "outputs": []
    },
    {
      "cell_type": "code",
      "metadata": {
        "id": "Z9Ha6VuxG8QY",
        "colab_type": "code",
        "outputId": "55ef039a-ad73-48cf-fc97-bb564193ed3c",
        "colab": {
          "base_uri": "https://localhost:8080/",
          "height": 34
        }
      },
      "source": [
        "print(seq) # matches with word index data "
      ],
      "execution_count": 5,
      "outputs": [
        {
          "output_type": "stream",
          "text": [
            "[[2, 3, 5, 4, 6], [2, 3, 7, 4, 8, 9, 10]]\n"
          ],
          "name": "stdout"
        }
      ]
    },
    {
      "cell_type": "code",
      "metadata": {
        "id": "ShpHRSW0G83j",
        "colab_type": "code",
        "colab": {}
      },
      "source": [
        "padded=pad_sequences(seq,maxlen=9) #Stores in array or 2D matrix"
      ],
      "execution_count": 0,
      "outputs": []
    },
    {
      "cell_type": "code",
      "metadata": {
        "id": "ypVT2MMjHSsN",
        "colab_type": "code",
        "outputId": "c9cbf2bc-28c5-45cf-e0b1-d9f62e853cbe",
        "colab": {
          "base_uri": "https://localhost:8080/",
          "height": 51
        }
      },
      "source": [
        "padded"
      ],
      "execution_count": 7,
      "outputs": [
        {
          "output_type": "execute_result",
          "data": {
            "text/plain": [
              "array([[ 0,  0,  0,  0,  2,  3,  5,  4,  6],\n",
              "       [ 0,  0,  2,  3,  7,  4,  8,  9, 10]], dtype=int32)"
            ]
          },
          "metadata": {
            "tags": []
          },
          "execution_count": 7
        }
      ]
    },
    {
      "cell_type": "code",
      "metadata": {
        "id": "9fPnyOZfHTwa",
        "colab_type": "code",
        "colab": {}
      },
      "source": [
        "test_data=[\n",
        "           'Not at all I am!',\n",
        "           'Please save after me from all monsters'\n",
        "]\n",
        "#Checking with previously unseen data"
      ],
      "execution_count": 0,
      "outputs": []
    },
    {
      "cell_type": "code",
      "metadata": {
        "id": "v4aFVwtoHu95",
        "colab_type": "code",
        "colab": {}
      },
      "source": [
        "test_seq=tokenizer.texts_to_sequences(test_data)"
      ],
      "execution_count": 0,
      "outputs": []
    },
    {
      "cell_type": "code",
      "metadata": {
        "id": "wzzPWbaZH7P2",
        "colab_type": "code",
        "colab": {}
      },
      "source": [
        "padded=pad_sequences(test_seq)"
      ],
      "execution_count": 0,
      "outputs": []
    },
    {
      "cell_type": "code",
      "metadata": {
        "id": "mxp7nnOAID7a",
        "colab_type": "code",
        "outputId": "98b5b24a-29de-46fa-f78a-ded4cff4c0a8",
        "colab": {
          "base_uri": "https://localhost:8080/",
          "height": 51
        }
      },
      "source": [
        "padded #maxlen param gives num of words to be stored in matrix"
      ],
      "execution_count": 11,
      "outputs": [
        {
          "output_type": "execute_result",
          "data": {
            "text/plain": [
              "array([[ 0,  0,  7,  1, 10,  2,  3],\n",
              "       [ 1,  1,  9,  1,  1, 10,  1]], dtype=int32)"
            ]
          },
          "metadata": {
            "tags": []
          },
          "execution_count": 11
        }
      ]
    }
  ]
}